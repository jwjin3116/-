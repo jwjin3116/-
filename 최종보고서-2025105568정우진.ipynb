{
 "cells": [
  {
   "cell_type": "markdown",
   "id": "41a1b72e-707d-488b-85e7-e2208262a664",
   "metadata": {},
   "source": [
    "# 1.주제 선정 이유"
   ]
  },
  {
   "cell_type": "markdown",
   "id": "603a90a4-4ae3-4ad1-bd32-113f1bf6dd16",
   "metadata": {
    "collapsed": true,
    "jupyter": {
     "outputs_hidden": true
    }
   },
   "source": [
    "우리는 전기 없이는 살아갈 수가 없지만, 정작 평소 우리 주변에서 어느 정도의 전력이 소모되고 있는지는 모른다. \n",
    "그리고 이러한 전력 중에는 거의 일정하게 쓰는 전력도 있지만 특정 지역,특정 시간대,특정 날에 따라 전력 소비량이 다를 것이다. \n",
    "이러한 점을 알아보기 위해 주제 '지역, 시간대, 날에 따른 전력 소비량 차이'를 선정하여 우리나라 전력 소비량을 분석 및 가공할 것이다."
   ]
  },
  {
   "cell_type": "markdown",
   "id": "ed17e57b-5c43-468d-8c99-f4184588e692",
   "metadata": {},
   "source": [
    "# 2.가설 정의"
   ]
  },
  {
   "cell_type": "markdown",
   "id": "f9259646-9865-4a3f-a9c2-9bb6941d9f76",
   "metadata": {},
   "source": [
    "(1)오후 7시~밤 12시에 가장 전력 사용량이 많을 것이다.\n",
    "\n",
    "-다른 조건이 동일할때, 해가 떠있을때는 불을 안키고 밤에는 자기 때문에 불을 안킬 것이기 때문에 둘다 아닌 저 시간대에 가장 전력 사용량이 많을 것으로 추측된다. 가로등이 켜지는 시간도 고려해보면 그때가 가장 적절하다. \n",
    "\n",
    "(2) 가장 전력 소비량이 적은 지역은 제주도일 것이다.\n",
    "\n",
    "-제주도는 독자적으로 전력을 쓰기에 상대적으로 전력 소비량이 적을 것이다.\n",
    "\n",
    "(3) 수도권의 면적에 비해 가로등 전력 소비량이 다른 지역에 비해 상대적으로 높을 것으로 보인다.\n",
    "\n",
    "-가로등은 사람이 다니는 거리나 차가 다니는 도로 가장자리에 주로 세워진다. \n",
    "\n",
    "따라서 가로등이 같은 종류라는 가정 하에 사람이나 집이 많을수록 가로등이 많이 세워질 것이며, 인구가 지역 크기 대비 많은 수도권이 가로등 전력량이 많을 것이다. \n",
    "\n",
    "(4) 수도권에서 면적에 비해 낮은 농사 전력 소비량을 가질 것이다.\n",
    "\n",
    "-수도권은 상대적으로 토지 중 농사로 사용하는 것이 적다. 따라서 농사로 인한 전력 소비량이 매우 낮을 것으로 추측된다. \n",
    "\n",
    "(5)여름과 겨울에 전력 소비량이 다른 계절보다 높을 것이다. \n",
    "\n",
    "-이는 너무 낮거나 높은 온도에 기인한 것이며 난방이나 에어컨에 전력이 많이 소비되기 때문이다.\n",
    "\n",
    "(6)가장 전력 소비량이 많은 날 중 하나는 크리스마스와 같은 날일 것이다.\n",
    "\n",
    "-장식 중 전기를 사용하는 것이 많기 때문이다."
   ]
  },
  {
   "cell_type": "markdown",
   "id": "4e5597ae-cc5b-4510-a492-389004eea157",
   "metadata": {},
   "source": [
    "# 3.인터넷을 통한 데이터 획득"
   ]
  },
  {
   "cell_type": "markdown",
   "id": "9713aac7-3d23-41b7-babd-9858d6c25ca7",
   "metadata": {},
   "source": [
    "사용한 사이트는 정부 3.0 공공 데이터 (http://www.data.go.kr/)이다.데이터는 csv형식,xlsx형식으로 다운로드받아 사용하였다.\n",
    " \n",
    "### (1)한국전력공사_시군구별 전력사용량\n",
    "\n",
    "-제공기관:한국전력공사\n",
    "\n",
    "-파일 형식:xlsx\n",
    "\n",
    "-링크:https://www.data.go.kr/data/3069444/fileData.do#\n",
    "\n",
    "-측정 년도:2024년\n",
    "\n",
    "### (2)한국전력거래소_시간별 전국 전력수요량\n",
    "\n",
    "-제공기관:한국전력거래소\n",
    "\n",
    "-파일 형식:csv\n",
    "\n",
    "-링크:https://www.data.go.kr/data/15065266/fileData.do#tab-layer-file\n",
    "\n",
    "-측정 년도:2024년\n"
   ]
  },
  {
   "cell_type": "markdown",
   "id": "f0348abe-996e-4309-b3fc-304b68dd5e02",
   "metadata": {},
   "source": [
    "# 4.분석을 위한 데이터의 가공"
   ]
  },
  {
   "cell_type": "markdown",
   "id": "7cc84b53-424c-4e48-abac-380992737af3",
   "metadata": {},
   "source": [
    "### (1)가정 1,5,6-csv파일 분석"
   ]
  },
  {
   "cell_type": "markdown",
   "id": "fc923711-0491-487f-96f2-107762f94a9a",
   "metadata": {},
   "source": [
    "!pip install pandas\n",
    "\n",
    "'일단 pandas를 설치했다.'"
   ]
  },
  {
   "cell_type": "markdown",
   "id": "56d85d7d-417e-4c82-a264-d68bf1666998",
   "metadata": {},
   "source": [
    "import pandas\n",
    "\n",
    "'pandas를 import 해왔다.'"
   ]
  },
  {
   "cell_type": "markdown",
   "id": "d837b4ea-875f-4598-9300-e8ff1f4d6d7a",
   "metadata": {},
   "source": [
    "csv=pandas.read_csv('한국전력거래소_시간별 전국 전력수요량_20241231.csv',encoding='euc-kr')\n",
    "\n",
    "'pandas.read.csv를 통해 csv 파일을 읽게 시킨다.'"
   ]
  },
  {
   "cell_type": "markdown",
   "id": "4f38b65c-fa73-473a-b647-72f3b556e31a",
   "metadata": {},
   "source": [
    "data_only = csv.iloc[:, 1:]\n",
    "\n",
    "sum_list=data_only.sum(axis=1).tolist()\n",
    "\n",
    "'이 csv데이터는 1열이 의미가 없어 1열을 제외한 후 sum을 사용하여 각각 행의 합(일별 전력 소비량)을 구한다.'"
   ]
  },
  {
   "cell_type": "markdown",
   "id": "fb4622b2-f5e8-448c-a9dc-ee15fedd3741",
   "metadata": {},
   "source": [
    "summer=sum(sum_list[152:244])/92\n",
    "\n",
    "winter=sum(sum_list[335:366]+sum_list[0:60])/91\n",
    "\n",
    "year=sum(sum_list[0:365])/\n",
    "\n",
    "print(summer)\n",
    "\n",
    "print(winter)\n",
    "\n",
    "print(year)\n",
    "\n",
    "'여름을 6-8월 겨울을 12-2월로 두고(2월은 윤년이었다) 평균 전력 소모량을 구해 1년 평균과 비교해본다.'"
   ]
  },
  {
   "cell_type": "markdown",
   "id": "e2d0fcb9-d5a8-401c-b783-892ed328e40b",
   "metadata": {},
   "source": [
    "for i in range(9):\n",
    "\n",
    "    a=sum_list.index(sum_sorted[365-i])\n",
    "    \n",
    "    print(a)\n",
    "\n",
    "'가장 전력 사용량이 높았던 9일을 print한다. 이 숫자에 대응하는 날짜를 비교하면 된다.'"
   ]
  },
  {
   "cell_type": "markdown",
   "id": "ea0bc341-34e6-4d76-8254-56e95fb89cbe",
   "metadata": {},
   "source": [
    "sum_sorted=sorted(sum_list)\n",
    "\n",
    "christmas=sum_sorted.index(sum_list[359])\n",
    "\n",
    "print(christmas)\n",
    "\n",
    "'sum_list[359]는 크리스마스 날짜의 값이다. 이 함수를 통해 크리스마스에 전력을 몇번째로 많이 쓰는지를 알아낼 수 있다.(0~365,클수록 많이씀)'"
   ]
  },
  {
   "cell_type": "markdown",
   "id": "2ba07abe-48fc-481b-aec1-86a747cf17e0",
   "metadata": {},
   "source": [
    "sum_list2=data_only.sum(axis=0).tolist()\n",
    "\n",
    "'위 방식을 axis=0으로 바꾸어 다시 사용해 이번엔 열의 합(시간대별 전력 사용량 총합)을 구한다.'"
   ]
  },
  {
   "cell_type": "markdown",
   "id": "20338605-c16f-4c30-95f1-4bc3b7eb5de9",
   "metadata": {},
   "source": [
    "ranking=[]\n",
    "\n",
    "sum_sorted2=sorted(sum_list2)\n",
    "\n",
    "for i in range(23):\n",
    "\n",
    "    ranking.append(sum_sorted2.index(sum_list2[i]))\n",
    "    \n",
    "print(ranking)\n",
    "\n",
    "'ranking이라는 새로운 리스트를 만들어 각 시간대의 전력 사용량이 몇번째로 높은지를(숫자가 클수록 전력 사용량이 많다) 본다."
   ]
  },
  {
   "cell_type": "markdown",
   "id": "b1f2d6d6-7c55-488c-85d9-b7c9796695ff",
   "metadata": {},
   "source": [
    "### (2)가정 2,3,4-xlsx 분석"
   ]
  },
  {
   "cell_type": "markdown",
   "id": "092e91fb-e0a2-4c3b-802a-246b4dc8508c",
   "metadata": {},
   "source": [
    "!pip install pandas\n",
    "\n",
    "import pandas\n",
    "\n",
    "'pandas를 설치하고 가져온다.'"
   ]
  },
  {
   "cell_type": "markdown",
   "id": "e23b1a6d-43e2-4601-a39f-4cf629fb5378",
   "metadata": {},
   "source": [
    "excel=pandas.read_excel('8.시군구별 전력사용량(홈페이지 게시용)_202405.xlsx',engine='openpyxl')\n",
    "\n",
    "'이번엔 시군구별 전력 소비량 데이커를 사용한다.'"
   ]
  },
  {
   "cell_type": "markdown",
   "id": "a746da36-afac-4dfb-b8c7-7c0679ca13b6",
   "metadata": {},
   "source": [
    "data = excel.iloc[1:].reset_index(drop=True)\n",
    "\n",
    "'데이터 중 1행은 제목이라 의미가 없다. 이를 제외한다. 그후 재정렬한다.'"
   ]
  },
  {
   "cell_type": "markdown",
   "id": "b7e5d943-f547-4a6a-a34c-f92bee9679a1",
   "metadata": {},
   "source": [
    "data.columns = data.iloc[0]\n",
    "\n",
    "data = data[1:].reset_index(drop=True)\n",
    "\n",
    "'새로운 1행은 열 제목으로 적절하나 데이터로는 부적절하다. 열의 제목으로 만든 후 삭제한다.' "
   ]
  },
  {
   "cell_type": "markdown",
   "id": "8a037dfb-e6dc-464a-b6fc-de332cff69f2",
   "metadata": {},
   "source": [
    "data['합계'] = data.iloc[:, 4:9].sum(axis=1)\n",
    "\n",
    "'여러모로 사용할 합계기 떄문에 새로운 열을 만든다.'"
   ]
  },
  {
   "cell_type": "markdown",
   "id": "38be3cd4-de70-469c-a590-66372f2895d5",
   "metadata": {},
   "source": [
    "seoul_farming_data=data[(data.iloc[:,3]=='농사용')&(data.iloc[:,1]=='서울특별시')]\n",
    "\n",
    "kyeongi_farming_data=data[(data.iloc[:,3]=='농사용')&(data.iloc[:,1]=='경기도')]\n",
    "\n",
    "farming_data=data[(data.iloc[:,3]=='농사용')]\n",
    "\n",
    "'서울,경기도, 전체로 농사용 데이터를 나눈다.'"
   ]
  },
  {
   "cell_type": "markdown",
   "id": "91eaac66-e5c7-4b1b-a19d-654a6cbf8cf5",
   "metadata": {},
   "source": [
    "seoul_farming_data['합계'].sum()\n",
    "\n",
    "kyeongi_farming_data['합계'].sum()\n",
    "\n",
    "farming_data['합계'].sum()\n",
    "\n",
    "'서울, 경기, 전체의 농사용 전력 소비량을 구한다.'"
   ]
  },
  {
   "cell_type": "markdown",
   "id": "0732b3c9-81b4-4460-b47b-4cf66c33692d",
   "metadata": {},
   "source": [
    "seoul_streetlight_data=data[(data.iloc[:,3]=='가로등')&(data.iloc[:,1]=='서울특별시')]\n",
    "\n",
    "kyeongi_streetlight_data=data[(data.iloc[:,3]=='가로등')&(data.iloc[:,1]=='경기도')]\n",
    "\n",
    "streetlight_data=data[(data.iloc[:,3]=='가로등')]\n",
    "\n",
    "'서울, 경기도,전체로 가로등 전력 소비량 데이터를 나눈다.'"
   ]
  },
  {
   "cell_type": "markdown",
   "id": "3eaeadc8-6ad1-4c95-ade5-584c0f0553d1",
   "metadata": {},
   "source": [
    "seoul_streetlight_data['합계'].sum()\n",
    "\n",
    "kyeongi_streetlight_data['합계'].sum()\n",
    "\n",
    "streetlight_data['합계'].sum()\n",
    "\n",
    "'서울, 경기도, 전체의 가로등 전력 소비량을 구한다'"
   ]
  },
  {
   "cell_type": "markdown",
   "id": "ba1707ca-0f25-4193-99c9-1065b337fb9b",
   "metadata": {},
   "source": [
    "jeju_sum_data=data[(data.iloc[:,1]=='제주특별자치도')&(data.iloc[:,3]=='합 계')]\n",
    "\n",
    "notjeju_sum_data=data[(data.iloc[:,1]!='제주특별자치도')&(data.iloc[:,3]=='합 계')]\n",
    "\n",
    "'제주도와 나머지로 전체 전력 소비량을 나눈다.'"
   ]
  },
  {
   "cell_type": "markdown",
   "id": "28e75a51-25b7-48ea-a0f0-3919fbd9d7c0",
   "metadata": {},
   "source": [
    "jeju_sum_data['합계'].sum()\n",
    "\n",
    "notjeju_sum_data['합계'].sum()\n",
    "\n",
    "'제주도와 나머지 지역의 전체 전력 소비량을 구한다.'"
   ]
  },
  {
   "cell_type": "markdown",
   "id": "08163354-455c-489a-830d-1f358966cc6a",
   "metadata": {},
   "source": [
    "# 5.분석 결과 도출"
   ]
  },
  {
   "cell_type": "markdown",
   "id": "0d5eef3e-57c6-45ba-9507-69db956a1f90",
   "metadata": {},
   "source": [
    "위 코드들을 실행시켜 보았다."
   ]
  },
  {
   "cell_type": "code",
   "execution_count": 337,
   "id": "68855795-c962-49e2-ad88-cf1f3e61d970",
   "metadata": {},
   "outputs": [
    {
     "name": "stdout",
     "output_type": "stream",
     "text": [
      "Requirement already satisfied: pandas in c:\\users\\user\\anaconda3\\lib\\site-packages (2.2.2)\n",
      "Requirement already satisfied: numpy>=1.26.0 in c:\\users\\user\\anaconda3\\lib\\site-packages (from pandas) (1.26.4)\n",
      "Requirement already satisfied: python-dateutil>=2.8.2 in c:\\users\\user\\anaconda3\\lib\\site-packages (from pandas) (2.9.0.post0)\n",
      "Requirement already satisfied: pytz>=2020.1 in c:\\users\\user\\anaconda3\\lib\\site-packages (from pandas) (2024.1)\n",
      "Requirement already satisfied: tzdata>=2022.7 in c:\\users\\user\\anaconda3\\lib\\site-packages (from pandas) (2023.3)\n",
      "Requirement already satisfied: six>=1.5 in c:\\users\\user\\anaconda3\\lib\\site-packages (from python-dateutil>=2.8.2->pandas) (1.16.0)\n"
     ]
    }
   ],
   "source": [
    "!pip install pandas\n",
    "import pandas\n",
    "csv=pandas.read_csv('한국전력거래소_시간별 전국 전력수요량_20241231.csv',encoding='euc-kr')\n",
    "data_only = csv.iloc[:, 1:]\n",
    "#일단 csv에 pandas로 시간.csv를 읽은 값 저장 후 1열 삭제"
   ]
  },
  {
   "cell_type": "code",
   "execution_count": 338,
   "id": "c16f6369-8f8b-49fb-ad4e-cfec9aab4bf5",
   "metadata": {},
   "outputs": [],
   "source": [
    "sum_list=data_only.sum(axis=1).tolist()\n",
    "sum_list2=data_only.sum(axis=0).tolist()\n",
    "#각각 행합계와 열합계를 구하고 리스트로 바꾼다."
   ]
  },
  {
   "cell_type": "code",
   "execution_count": 339,
   "id": "289f4543-94dc-4130-8d72-72191bb30ca9",
   "metadata": {},
   "outputs": [
    {
     "name": "stdout",
     "output_type": "stream",
     "text": [
      "1660817.7282608696\n",
      "1702505.989010989\n",
      "1567311.9043715848\n"
     ]
    }
   ],
   "source": [
    "summer=sum(sum_list[152:244])/92\n",
    "winter=sum(sum_list[335:366]+sum_list[0:60])/91\n",
    "year=sum(sum_list[0:366])/366\n",
    "print(summer)\n",
    "print(winter)\n",
    "print(year)\n",
    "#여름과 겨울이 상대적으로 전력 소모량이 높았다."
   ]
  },
  {
   "cell_type": "code",
   "execution_count": 359,
   "id": "02ac64ee-75af-41ca-a7a4-a646738a890c",
   "metadata": {},
   "outputs": [
    {
     "name": "stdout",
     "output_type": "stream",
     "text": [
      "362\n"
     ]
    }
   ],
   "source": [
    "sum_sorted=sorted(sum_list)\n",
    "christmas=sum_sorted.index(sum_list[359])\n",
    "print(christmas)\n",
    "#크리스마스가 366일 중 4등으로 전력 사용량이 높다."
   ]
  },
  {
   "cell_type": "code",
   "execution_count": 364,
   "id": "f1c48e4a-f79e-4fde-a405-d8ffd483e8ca",
   "metadata": {},
   "outputs": [
    {
     "name": "stdout",
     "output_type": "stream",
     "text": [
      "352\n",
      "354\n",
      "360\n",
      "359\n",
      "232\n",
      "233\n",
      "234\n",
      "225\n",
      "226\n"
     ]
    }
   ],
   "source": [
    "for i in range(9):\n",
    "    a=sum_list.index(sum_sorted[365-i])\n",
    "    print(a)\n",
    "#숫자에 대응하는 날짜는 여름5개,겨울 4개이다."
   ]
  },
  {
   "cell_type": "code",
   "execution_count": 76,
   "id": "2a3cbde3-d935-452b-aa62-9550c410e138",
   "metadata": {},
   "outputs": [
    {
     "name": "stdout",
     "output_type": "stream",
     "text": [
      "[7, 5, 3, 1, 2, 4, 6, 8, 14, 17, 15, 11, 9, 12, 16, 19, 21, 22, 24, 23, 20, 18, 13]\n"
     ]
    }
   ],
   "source": [
    "ranking=[]\n",
    "sum_sorted2=sorted(sum_list2)\n",
    "for i in range(23):\n",
    "    ranking.append(sum_sorted2.index(sum_list2[i]))\n",
    "print(ranking)\n",
    "#오후 7시에 정점을 찍는 구조이다."
   ]
  },
  {
   "cell_type": "code",
   "execution_count": 250,
   "id": "1742e141-fcdb-4e4e-bc9c-b1c7e2a191ef",
   "metadata": {},
   "outputs": [],
   "source": [
    "import pandas\n",
    "excel=pandas.read_excel('8.시군구별 전력사용량(홈페이지 게시용)_202405.xlsx',engine='openpyxl')\n",
    "#시군구별 전력 소비량 비교"
   ]
  },
  {
   "cell_type": "code",
   "execution_count": 190,
   "id": "08196b48-e581-4d61-a242-5448d0739d93",
   "metadata": {},
   "outputs": [],
   "source": [
    "data = excel.iloc[1:].reset_index(drop=True)\n",
    "data.columns = data.iloc[0] \n",
    "data = data[1:].reset_index(drop=True)\n",
    "#필요없는 0열 제거, 1열은 제목으로 사용 및 제거"
   ]
  },
  {
   "cell_type": "code",
   "execution_count": 192,
   "id": "e5be4c1c-73e1-4176-b84c-ebe07a52ec81",
   "metadata": {},
   "outputs": [],
   "source": [
    "data['합계'] = data.iloc[:, 4:9].sum(axis=1)\n",
    "#중요한건 시간(열)이 아닌 시군구(행)이므로 1~5월 전력 소비량을 합쳐 합계라는 열 제작"
   ]
  },
  {
   "cell_type": "code",
   "execution_count": 270,
   "id": "03645cb0-87f7-4f46-8a25-ea49a5601358",
   "metadata": {},
   "outputs": [],
   "source": [
    "seoul_farming_data=data[(data.iloc[:,3]=='농사용')&(data.iloc[:,1]=='서울특별시')]\n",
    "kyeongi_farming_data=data[(data.iloc[:,3]=='농사용')&(data.iloc[:,1]=='경기도')]\n",
    "farming_data=data[(data.iloc[:,3]=='농사용')]\n",
    "#농사용 전력 소비량 거르기 -각각 서울,경기,전체"
   ]
  },
  {
   "cell_type": "code",
   "execution_count": 272,
   "id": "f443df8a-32b2-4c38-a5a6-8852f863a706",
   "metadata": {},
   "outputs": [
    {
     "data": {
      "text/plain": [
       "9429903"
      ]
     },
     "execution_count": 272,
     "metadata": {},
     "output_type": "execute_result"
    }
   ],
   "source": [
    "seoul_farming_data['합계'].sum()\n",
    "#서울시 농사 전력 소비량"
   ]
  },
  {
   "cell_type": "code",
   "execution_count": 274,
   "id": "186998d2-df9c-4fba-a018-b1e5256330b2",
   "metadata": {},
   "outputs": [
    {
     "data": {
      "text/plain": [
       "1196818070"
      ]
     },
     "execution_count": 274,
     "metadata": {},
     "output_type": "execute_result"
    }
   ],
   "source": [
    "kyeongi_farming_data['합계'].sum()\n",
    "#경기도 농사 전력 소비량"
   ]
  },
  {
   "cell_type": "code",
   "execution_count": 276,
   "id": "66496f06-42e5-49fc-a16b-e96e75c53116",
   "metadata": {},
   "outputs": [
    {
     "data": {
      "text/plain": [
       "8788483645"
      ]
     },
     "execution_count": 276,
     "metadata": {},
     "output_type": "execute_result"
    }
   ],
   "source": [
    "farming_data['합계'].sum()\n",
    "#전체 농사 전력 소비량"
   ]
  },
  {
   "cell_type": "code",
   "execution_count": 322,
   "id": "8549c28d-506b-42ae-9016-cb1bd6840d34",
   "metadata": {},
   "outputs": [],
   "source": [
    "seoul_streetlight_data=data[(data.iloc[:,3]=='가로등')&(data.iloc[:,1]=='서울특별시')]\n",
    "kyeongi_streetlight_data=data[(data.iloc[:,3]=='가로등')&(data.iloc[:,1]=='경기도')]\n",
    "streetlight_data=data[(data.iloc[:,3]=='가로등')]\n",
    "#서울, 경기도, 전체 가로등 관련 행 거르기"
   ]
  },
  {
   "cell_type": "code",
   "execution_count": 280,
   "id": "8f7ace05-5264-4497-bedb-a7370b0340d9",
   "metadata": {},
   "outputs": [
    {
     "data": {
      "text/plain": [
       "113465893"
      ]
     },
     "execution_count": 280,
     "metadata": {},
     "output_type": "execute_result"
    }
   ],
   "source": [
    "seoul_streetlight_data['합계'].sum()\n",
    "#서울 가로등 전력 소비량"
   ]
  },
  {
   "cell_type": "code",
   "execution_count": 282,
   "id": "984aaebe-fe60-487e-961d-97cf9494150b",
   "metadata": {},
   "outputs": [
    {
     "data": {
      "text/plain": [
       "361908912"
      ]
     },
     "execution_count": 282,
     "metadata": {},
     "output_type": "execute_result"
    }
   ],
   "source": [
    "kyeongi_streetlight_data['합계'].sum()\n",
    "#경기도 가로등 전력 소비량"
   ]
  },
  {
   "cell_type": "code",
   "execution_count": 284,
   "id": "8cbdde44-84c1-42b1-ad76-894ca7c67ad0",
   "metadata": {},
   "outputs": [
    {
     "data": {
      "text/plain": [
       "1457114642"
      ]
     },
     "execution_count": 284,
     "metadata": {},
     "output_type": "execute_result"
    }
   ],
   "source": [
    "streetlight_data['합계'].sum()\n",
    "#전체 가로등 전력 소비량"
   ]
  },
  {
   "cell_type": "code",
   "execution_count": 286,
   "id": "8afeba59-7d61-4818-b037-c46844bb5e05",
   "metadata": {},
   "outputs": [],
   "source": [
    "jeju_sum_data=data[(data.iloc[:,1]=='제주특별자치도')&(data.iloc[:,3]=='합 계')]\n",
    "notjeju_sum_data=data[(data.iloc[:,1]!='제주특별자치도')&(data.iloc[:,3]=='합 계')]\n",
    "#제주특별자치도,나머지 전체 전력 소비량 관련 행 거르기"
   ]
  },
  {
   "cell_type": "code",
   "execution_count": 288,
   "id": "891b2dab-4544-4fb0-96bb-0b7acae9a13e",
   "metadata": {},
   "outputs": [
    {
     "data": {
      "text/plain": [
       "2559739767"
      ]
     },
     "execution_count": 288,
     "metadata": {},
     "output_type": "execute_result"
    }
   ],
   "source": [
    "jeju_sum_data['합계'].sum()\n",
    "#제주특별자치도 전력소비량"
   ]
  },
  {
   "cell_type": "code",
   "execution_count": 290,
   "id": "f8b8356c-db3c-4251-8270-19d215cd6ca8",
   "metadata": {},
   "outputs": [
    {
     "data": {
      "text/plain": [
       "223107880579"
      ]
     },
     "execution_count": 290,
     "metadata": {},
     "output_type": "execute_result"
    }
   ],
   "source": [
    "notjeju_sum_data['합계'].sum()\n",
    "#제주특별자치도 제외 전력소비량"
   ]
  },
  {
   "cell_type": "markdown",
   "id": "24e5bd92-c537-42f0-a63b-6f56ccef2494",
   "metadata": {},
   "source": [
    "# 6.결론"
   ]
  },
  {
   "cell_type": "markdown",
   "id": "62d3183a-40e5-4e3e-9655-95415f54e1fd",
   "metadata": {},
   "source": [
    "가설(1): ranking 리스트를 통해 나타난 것을 보면 가설과 같이 밤과 낮에는 전력 사용량이 적고,저녁에 전력 사용량이 높은 것을 볼 수 있다. 그러나 나의 예상과는 달리 5~9시 사이에 가장 전력 사용량이 높았다.이는 불을 키는 것과는 다른 전력 소비가 그 시간대에 있던가, 계절에 따른 낮과 밤의 길이를 고려해야 했던가, 불을 켜야 할 정도로 어두워질때가 내 예상보다 이르기 때문으로 보인다."
   ]
  },
  {
   "cell_type": "markdown",
   "id": "35e1e11a-b56f-49ba-a17e-b5a4ef066ba4",
   "metadata": {},
   "source": [
    "가설(2):farming_data들을 사용하여 서울, 경기도, 전체 농사용 전력 소비량을 조사해 본 결과 서울은 전체 중 상당히 적은 농사 전력 소비량을 가졌으나, 수도권은 가설과 달리 딱히 농사용 전력 소비량이 적지는 않았다. 이는 내 예상과 달리 경기도에도 농업용 토지가 상당하다는 사실과 경기도의 인구가 많다는 사실이 맞물려서 나타난 결과로 보인다. "
   ]
  },
  {
   "cell_type": "markdown",
   "id": "003b043c-e873-4be0-a97c-2ac5ff5c1702",
   "metadata": {},
   "source": [
    "가설(3): streetlight_data들을 이용하여 서울, 경기도, 전체 가로등 전력 소비량을 알아본 결과, 가로등 전력 소비량은 가설처럼 수도권이 지역 크기에 비해 매우 컸다. 가설처럼 사람들이 많이 살기도 하고, 도로가 많아 가로등이 설치될 일이 많아서 그런 것으로 추정된다."
   ]
  },
  {
   "cell_type": "markdown",
   "id": "275f2e0f-5265-4788-85db-daa039d198be",
   "metadata": {},
   "source": [
    "가설(4): jeju_data와 notjeju_data를 이용하여 제주도 대 나머지 전력소비량을 비교해 본 결과, 나의 가정과 달리 면적에 비해 딱히 전력소모량이 적진 않았다. 이는 제주도가 관광 산업이 무척 발달한 곳이라 실제 인구에다가 관광객들도 포함하면 더 많을 것이라는 것과, 관광 산업을 시행하는 데 사용되는 전력이 꽤나 커서라고 생각된다. 사람들이 상대적으로 여행올 때 전력을 더욱 쓰는 것도 이유 중 하나일 것으로 생각된다. "
   ]
  },
  {
   "cell_type": "markdown",
   "id": "2d1cc170-d7b2-49f5-9bd6-4eec5018ab27",
   "metadata": {},
   "source": [
    "가설(5):summer,winter,year 변수의 값을 비교하면 가설과 같이 여름과 겨울에 전력 소비량이 더 크다는 것을 한눈에 알아볼 수 있다. 또한,index를 이용하여 알아낸 가장 전력량이 높은 날짜 10개가 여름과 겨울 때의 날짜인 것으로 보아 여름과 겨울에 전력 소비량이 더 클 것이라는 가설을 강화시킨다. 이때 겨울이 전력 소비량이 더 크고 5위 안에 드는 날짜들 중 4개가 겨울인 것으로 보아 겨울에 더욱 전력 소비량이 높다는 것을 알 수 있다"
   ]
  },
  {
   "cell_type": "markdown",
   "id": "f88ec473-bc21-49ee-9e96-370c2b8926d7",
   "metadata": {},
   "source": [
    "가설(6):sum.sorted와 index를 이용하여 얻은 크리스마스 전력 소비량 순위는 4/366이므로 매우 높다. 이는 나의 가설과는 같다. 다만 특이하게도 12월 26일이 더 전력 소비량이 높았다. 이는 공휴일이라는 특성으로 인해 폰을 제외한 전자기기 사용이 줄면서 전력 소비량이 감소한 것이거나 크리스마스라는 특성보다는 그때의 추위에 더 영향받았을 가능성도 있다. 아니면 26일이 대체공휴일이엇을 가능성이 있다.  "
   ]
  },
  {
   "cell_type": "markdown",
   "id": "313a489b-3ee9-4c0e-be0d-1835041afe0b",
   "metadata": {},
   "source": [
    "# 7.참고문헌"
   ]
  },
  {
   "cell_type": "markdown",
   "id": "6b709add-b936-4e88-9582-45c2913c062b",
   "metadata": {},
   "source": [
    "https://dacon.io/competitions/official/235554/codeshare/585\n",
    "\n",
    "https://m.blog.naver.com/jkg57/222477635369\n",
    "\n",
    "https://haystar.tistory.com/7\n",
    "\n",
    "https://kimpanda.tistory.com/270\n",
    "\n",
    "https://www.data.go.kr/cmm/cmm/fileDownload.do?atchFileId=FILE_000000003092319&fileDetailSn=1&dataNm=%ED%95%9C%EA%B5%AD%EC%A0%84%EB%A0%A5%EA%B1%B0%EB%9E%98%EC%86%8C_%EC%8B%9C%EA%B0%84%EB%B3%84%20%EC%A0%84%EA%B5%AD%20%EC%A0%84%EB%A0%A5%EC%88%98%EC%9A%94%EB%9F%89_20241231\n",
    "\n",
    "https://home.kepco.co.kr/kepco/KO/ntcob/ntcobView.do?pageIndex=1&boardSeq=21067649&boardCd=BRD_000283&menuCd=FN05030105&parnScrpSeq=21060498&searchCondition=total&searchKeyword=\n",
    "\n",
    "https://kosis.kr/statHtml/statHtml.do?sso=ok&returnurl=https%3A%2F%2Fkosis.kr%3A443%2FstatHtml%2FstatHtml.do%3FtblId%3DDT_1ZGA17%26orgId%3D101%26"
   ]
  },
  {
   "cell_type": "code",
   "execution_count": null,
   "id": "9c3fe715-bc71-422e-9823-11b4ad88bf18",
   "metadata": {},
   "outputs": [],
   "source": []
  }
 ],
 "metadata": {
  "kernelspec": {
   "display_name": "Python [conda env:base] *",
   "language": "python",
   "name": "conda-base-py"
  },
  "language_info": {
   "codemirror_mode": {
    "name": "ipython",
    "version": 3
   },
   "file_extension": ".py",
   "mimetype": "text/x-python",
   "name": "python",
   "nbconvert_exporter": "python",
   "pygments_lexer": "ipython3",
   "version": "3.12.7"
  }
 },
 "nbformat": 4,
 "nbformat_minor": 5
}
